{
 "cells": [
  {
   "cell_type": "code",
   "execution_count": null,
   "metadata": {},
   "outputs": [],
   "source": [
    "%load_ext autoreload\n",
    "%autoreload 2"
   ]
  },
  {
   "cell_type": "markdown",
   "metadata": {},
   "source": [
    "# ImageBot\n",
    "\n",
    "This notebook shows how to use the ImageBot API to ingest or generate images from text.\n"
   ]
  },
  {
   "cell_type": "markdown",
   "metadata": {},
   "source": [
    "## Image Ingestion\n",
    "\n",
    "For image ingestion, we will use the `SimpleBot` class, which can take an iterable of messages and pass them to the LLM.  Making one of the messages an image URL or a local file path will automatically convert it into a format that can be used by the LLM.\n",
    "\n",
    "In this example, we will use a local LLM (Gemma 3n) hosted on LM Studio on an Apple Silicon Mac.  You can choose any LLM that is compatible with your computer architecture (including non-local models) as long as they can process images.\n",
    "\n",
    "First you need to set up the environment variable to point to your LM Studio instance.  You can skip this step if you are using a non-local model."
   ]
  },
  {
   "cell_type": "code",
   "execution_count": null,
   "metadata": {},
   "outputs": [],
   "source": [
    "# Define the API base (for LM Studio), API key, and model name\n",
    "#\n",
    "# NOTE: If you are using another service with a real API key,\n",
    "# you should NOT store it in plain text here. You should probably\n",
    "# use environment variables to manage sensitive information.\n",
    "API_BASE = \"http://localhost:1234/v1\"\n",
    "API_KEY = \"lm-studio\"  # This is a dummy value to bypass the check\n",
    "MODEL_NAME = \"lm_studio/gemma-3n-e4b-it-mlx\"\n",
    "\n",
    "# Define the temperature for the model's responses\n",
    "TEMPERATURE = 0.2"
   ]
  },
  {
   "cell_type": "markdown",
   "metadata": {},
   "source": [
    "Now we can create a `SimpleBot` instance and connect to the LLM."
   ]
  },
  {
   "cell_type": "code",
   "execution_count": null,
   "metadata": {},
   "outputs": [],
   "source": [
    "import llamabot as lmb\n",
    "from llamabot import SimpleBot\n",
    "from pathlib import Path\n",
    "\n",
    "# This example code was written and tested on an Apple Silicon Mac\n",
    "# using the LM Studio application to host a Gemma 3n model downloaded\n",
    "# from Hugging Face:\n",
    "# https://huggingface.co/lmstudio-community/gemma-3n-E4B-it-MLX-bf16\n",
    "#\n",
    "# Use lm_studio/ prefix to access local models through LM Studio.\n",
    "# You can also use other models (e.g. OpenAI or Ollama models)\n",
    "# as long as they support image inputs.  See the documentation for details.\n",
    "\n",
    "system_prompt = \"\"\"You are a helpful assistant that can analyze images and \n",
    "provide detailed descriptions of those images.  You will also try to answer\n",
    "any questions about the images to the best of your ability.\"\"\"\n",
    "\n",
    "bot = SimpleBot(\n",
    "    system_prompt,\n",
    "    temperature=TEMPERATURE,\n",
    "    api_base=API_BASE,\n",
    "    api_key=API_KEY,\n",
    "    model_name=MODEL_NAME,\n",
    ")"
   ]
  },
  {
   "cell_type": "markdown",
   "metadata": {},
   "source": [
    "Now we use the bot to process a message that includes an image.  We can do this by passing a list of messages to the bot, one of which is an image file path. The image we will use is shown below:\n",
    "\n",
    "![Bearly There](./Bearly_There.JPG)\n",
    "\n",
    "**Image Credit**: Photo by [Juan Cabanela](http://web.mnstate.edu/cabanela/) and is provided under a [CC BY-NC 4.0 license](https://creativecommons.org/licenses/by-nc/4.0/)."
   ]
  },
  {
   "cell_type": "code",
   "execution_count": null,
   "metadata": {},
   "outputs": [],
   "source": [
    "# Ask the bot to describe an image localed at the given path\n",
    "image_path = Path(\"./Bearly_There.JPG\")\n",
    "\n",
    "first_message = [\n",
    "    lmb.user(\"Briefly (in less than 25 words) describe the following image: \"),\n",
    "    lmb.user(image_path),\n",
    "]\n",
    "\n",
    "response = bot(first_message)"
   ]
  },
  {
   "cell_type": "markdown",
   "metadata": {},
   "source": [
    "So the previous cell properly ingested the image and passed it to the LLM.  The LLM then generated a response based on the image content.  However, when using `SimpleBot` the context is not saved, so we cannot ask follow-up questions about the image.  \n",
    "\n",
    "For example, if we try to ask a follow-up question about the image, the bot will not remember the previous interaction, and thus will respond in a way that does not reference the image."
   ]
  },
  {
   "cell_type": "code",
   "execution_count": null,
   "metadata": {},
   "outputs": [],
   "source": [
    "# This will not work as you might expect because the bot has no memory\n",
    "\n",
    "followup_message = [\n",
    "    lmb.user(\"What else can you tell me about the bear?\"),\n",
    "]\n",
    "\n",
    "response2 = bot(followup_message)"
   ]
  },
  {
   "cell_type": "markdown",
   "metadata": {},
   "source": [
    "We can address this by creating a memory store for the chat which can hold the context of the first conversation and the response.  Here we will use a simple list to hold the chat history."
   ]
  },
  {
   "cell_type": "code",
   "execution_count": null,
   "metadata": {},
   "outputs": [],
   "source": [
    "# Create a memory store for the chat which can hold the context of the\n",
    "# conversation.\n",
    "chat_memory = []\n",
    "\n",
    "# Combine the initial message and the response into the chat memory\n",
    "chat_memory.extend([first_message, response])"
   ]
  },
  {
   "cell_type": "markdown",
   "metadata": {},
   "source": [
    "Now we can ask follow-up questions about the image and the bot will remember the context.  **NOTE**: You may need to increase the number of tokens the model can use to ensure it has enough context to answer the question."
   ]
  },
  {
   "cell_type": "code",
   "execution_count": null,
   "metadata": {},
   "outputs": [],
   "source": [
    "# Starting with the chat memory for the previous interaction,\n",
    "# ask a followup question about the image and then send all\n",
    "# of that to the bot with memory.\n",
    "messages = chat_memory + followup_message\n",
    "\n",
    "# Call the bot with the full message history\n",
    "response2 = bot(messages)\n"
   ]
  },
  {
   "cell_type": "markdown",
   "metadata": {},
   "source": [
    "## Image Generation\n",
    "\n",
    "Image generation, due to the rather large memory requirements, is normally not available on local models. We will need to use an visual language model, which is available through the OpenAI API. It is assumed you have set up your OpenAI API key in the environment variable (as per [OpenAI's best practices](https://help.openai.com/en/articles/5112595-best-practices-for-api-key-safety) documentation).\n",
    "\n",
    "Once we have set up the environment variable, we can load the API key:"
   ]
  },
  {
   "cell_type": "code",
   "execution_count": null,
   "metadata": {},
   "outputs": [],
   "source": [
    "# Load an OpenAI API Key from an environment variable and select an\n",
    "# OpenAI model to use\n",
    "import os\n",
    "\n",
    "OPENAI_API_KEY = os.getenv(\"OPENAI_API_KEY\")\n",
    "\n",
    "# We will use the DALL-E 3 model for image generation, which is not\n",
    "# the newest model but is still quite capable.\n",
    "OPENAI_MODEL = \"dall-e-3\""
   ]
  },
  {
   "cell_type": "markdown",
   "metadata": {},
   "source": [
    "Now let's call the `ImageBot` to generate an image from a text prompt.  The generated image will be returned as a URL that is used to display the image in the notebook.  If you want to save the image locally, you can use the `requests` library to download it."
   ]
  },
  {
   "cell_type": "code",
   "execution_count": null,
   "metadata": {},
   "outputs": [],
   "source": [
    "from llamabot.bot.imagebot import ImageBot\n",
    "\n",
    "# Create an ImageBot instance\n",
    "# The supported sizes are: '1024x1024', '1024x1792', and '1792x1024'\n",
    "# with the default being '1024x1024'.\n",
    "img_gen_bot = ImageBot(\n",
    "    size=\"1024x1024\",  # The default size is 1024x1024\n",
    ")\n",
    "\n",
    "img_gen_bot(\n",
    "    \"A grizzly bear eating some berries at a picnic table in a forest.\",\n",
    "    return_url=True,\n",
    "    save_path=Path(\"./generated_bear_image.png\"),\n",
    ")"
   ]
  },
  {
   "cell_type": "code",
   "execution_count": null,
   "metadata": {},
   "outputs": [],
   "source": []
  }
 ],
 "metadata": {
  "kernelspec": {
   "display_name": "default",
   "language": "python",
   "name": "python3"
  },
  "language_info": {
   "codemirror_mode": {
    "name": "ipython",
    "version": 3
   },
   "file_extension": ".py",
   "mimetype": "text/x-python",
   "name": "python",
   "nbconvert_exporter": "python",
   "pygments_lexer": "ipython3",
   "version": "3.12.10"
  }
 },
 "nbformat": 4,
 "nbformat_minor": 2
}
