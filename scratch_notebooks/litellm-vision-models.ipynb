{
 "cells": [
  {
   "cell_type": "code",
   "execution_count": null,
   "metadata": {},
   "outputs": [],
   "source": [
    "%load_ext autoreload\n",
    "%autoreload 2\n"
   ]
  },
  {
   "cell_type": "code",
   "execution_count": null,
   "metadata": {},
   "outputs": [],
   "source": [
    "from pyprojroot import here\n",
    "\n",
    "import llamabot as lmb\n",
    "\n",
    "image_path = here() / \"data\" / \"croc-capybara-alligator.jpg\"\n",
    "\n",
    "\n",
    "messages = lmb.user(\"what is in this image?\", image_path)\n",
    "bot = lmb.SimpleBot(\n",
    "    model_name=\"gpt-4o\",\n",
    "    system_prompt=lmb.system(\"You are a helpful assistant.\"),\n",
    ")\n",
    "\n",
    "bot(lmb.user(\"What's in this image?\", image_path))"
   ]
  },
  {
   "cell_type": "code",
   "execution_count": null,
   "metadata": {},
   "outputs": [],
   "source": [
    "from pydantic import BaseModel, Field\n",
    "from datetime import datetime\n",
    "from decimal import Decimal\n",
    "from typing import Optional, List\n",
    "\n",
    "\n",
    "class ReceiptItem(BaseModel):\n",
    "    \"\"\"A single item entry in a receipt.\"\"\"\n",
    "\n",
    "    name: str = Field(..., description=\"Name of the item purchased\")\n",
    "    quantity: float = Field(..., description=\"Quantity of items purchased\")\n",
    "    unit_price: Decimal = Field(..., description=\"Price per unit of the item\")\n",
    "    total_price: Decimal = Field(..., description=\"Total price for this item\")\n",
    "\n",
    "\n",
    "class Receipt(BaseModel):\n",
    "    \"\"\"A model representing a receipt with its items and metadata.\"\"\"\n",
    "\n",
    "    merchant_name: str = Field(..., description=\"Name of the merchant/store\")\n",
    "    date: datetime = Field(..., description=\"Date and time of purchase\")\n",
    "    items: List[ReceiptItem] = Field(\n",
    "        default_factory=list, description=\"List of items purchased\"\n",
    "    )\n",
    "    subtotal: Decimal = Field(..., description=\"Subtotal before tax\")\n",
    "    tax: Decimal = Field(..., description=\"Tax amount\")\n",
    "    total: Decimal = Field(..., description=\"Total amount including tax\")\n",
    "    payment_method: Optional[str] = Field(None, description=\"Method of payment used\")\n",
    "    receipt_number: Optional[str] = Field(\n",
    "        None, description=\"Receipt identification number\"\n",
    "    )\n",
    "\n",
    "\n",
    "sb = lmb.StructuredBot(\n",
    "    system_prompt=lmb.system(\"You extract structured information from images.\"),\n",
    "    model_name=\"gpt-4o\",\n",
    "    pydantic_model=Receipt,\n",
    ")\n",
    "\n",
    "response = sb(\n",
    "    lmb.user(\n",
    "        \"Give me only the most expensive items in this image:\",\n",
    "        \"https://i.pinimg.com/736x/2d/c9/54/2dc95482e91453fb8469d3b6208a2e3a.jpg\",\n",
    "    )\n",
    ")"
   ]
  },
  {
   "cell_type": "code",
   "execution_count": null,
   "metadata": {},
   "outputs": [],
   "source": []
  },
  {
   "cell_type": "code",
   "execution_count": null,
   "metadata": {},
   "outputs": [],
   "source": []
  }
 ],
 "metadata": {
  "kernelspec": {
   "display_name": "llamabot",
   "language": "python",
   "name": "llamabot"
  },
  "language_info": {
   "codemirror_mode": {
    "name": "ipython",
    "version": 3
   },
   "file_extension": ".py",
   "mimetype": "text/x-python",
   "name": "python",
   "nbconvert_exporter": "python",
   "pygments_lexer": "ipython3",
   "version": "3.12.7"
  }
 },
 "nbformat": 4,
 "nbformat_minor": 2
}
