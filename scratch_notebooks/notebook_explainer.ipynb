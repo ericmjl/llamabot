{
 "cells": [
  {
   "cell_type": "code",
   "execution_count": null,
   "metadata": {},
   "outputs": [],
   "source": [
    "import nbformat\n",
    "\n",
    "# Read the Jupyter notebook\n",
    "with open(\"./dummy_notebook.ipynb\", \"r\", encoding=\"utf-8\") as notebook_file:\n",
    "    notebook = nbformat.read(notebook_file, as_version=4)\n",
    "\n",
    "# Now you have the notebook content in the 'notebook' variable\n",
    "# You can access cells, metadata, and other notebook components"
   ]
  },
  {
   "cell_type": "code",
   "execution_count": null,
   "metadata": {},
   "outputs": [],
   "source": [
    "from llamabot import SimpleBot\n",
    "from llamabot.prompt_manager import prompt\n",
    "\n",
    "\n",
    "bot = SimpleBot(\n",
    "    \"You are an expert at explaining Jupyter notebook code. \"\n",
    "    \"You will be given a notebook code cell. \"\n",
    "    \"You will generate the necessary markdown to explain the code to a non-technical audience. \"\n",
    "    \"Be brief and concise. \"\n",
    "    \"Use a conversational tone, such as 'we're going to do this and that'\"\n",
    ")\n",
    "\n",
    "\n",
    "@prompt\n",
    "def provide_content(cell_source, notebook):\n",
    "    \"\"\"Here is the code context for you to work with:\n",
    "\n",
    "    -----\n",
    "\n",
    "    [[CELL SOURCE TO EXPLAIN BEGINS]]\n",
    "    {{ cell_source }}\n",
    "    [[CELL SOURCE TO EXPLAIN END]]\n",
    "\n",
    "    -----\n",
    "\n",
    "    Here is the rest of the notebook to contextualize the code cell to be explained.\n",
    "\n",
    "    [[ALL NOTEBOOK CELLS START]]\n",
    "    {% for cell in notebook.cells %}\n",
    "    {{ cell.source }}\n",
    "    {% endfor %}\n",
    "    [[ALL NOTEBOOK CELLS END]]\n",
    "\n",
    "    -----\n",
    "\n",
    "    Please provide a Markdown explanation as instructed.\n",
    "    \"\"\"\n",
    "\n",
    "\n",
    "# Create a new notebook object to store the modified notebook\n",
    "new_notebook = nbformat.v4.new_notebook()\n",
    "\n",
    "# Copy the metadata from the original notebook\n",
    "new_notebook.metadata = notebook.metadata.copy()\n",
    "\n",
    "\n",
    "# Iterate through the cells of the original notebook\n",
    "for cell in notebook.cells:\n",
    "    # make an explanation of the cell\n",
    "    if cell.cell_type == \"code\":\n",
    "        explanation = bot(provide_content(cell.source, notebook)).content\n",
    "        # Create a new markdown cell with the explanation\n",
    "        explanation_cell = nbformat.v4.new_markdown_cell(source=explanation)\n",
    "\n",
    "        new_notebook.cells.append(explanation_cell)\n",
    "    new_notebook.cells.append(cell)"
   ]
  },
  {
   "cell_type": "code",
   "execution_count": null,
   "metadata": {},
   "outputs": [],
   "source": [
    "# Write the new notebook to disk\n",
    "output_path = \"explained_notebook.ipynb\"\n",
    "with open(output_path, \"w\") as f:\n",
    "    nbformat.write(new_notebook, f)\n",
    "\n",
    "print(f\"Explained notebook has been saved to {output_path}\")"
   ]
  }
 ],
 "metadata": {
  "kernelspec": {
   "display_name": "llamabot",
   "language": "python",
   "name": "llamabot"
  },
  "language_info": {
   "codemirror_mode": {
    "name": "ipython",
    "version": 3
   },
   "file_extension": ".py",
   "mimetype": "text/x-python",
   "name": "python",
   "nbconvert_exporter": "python",
   "pygments_lexer": "ipython3",
   "version": "3.12.5"
  }
 },
 "nbformat": 4,
 "nbformat_minor": 2
}
